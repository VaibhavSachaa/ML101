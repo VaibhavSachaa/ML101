{
    "nbformat_minor": 2, 
    "cells": [
        {
            "source": "<a href=\"https://www.bigdatauniversity.com\"><img src = \"https://ibm.box.com/shared/static/cw2c7r3o20w9zn8gkecaeyjhgw3xdgbj.png\" width = 400, align = \"center\"></a>\n\n# <center>Decision Trees</center>", 
            "cell_type": "markdown", 
            "metadata": {
                "button": false, 
                "new_sheet": false, 
                "run_control": {
                    "read_only": false
                }
            }
        }, 
        {
            "source": "In this lab exercise, you will learn a popular machine learning algorithm, Decision Tree. You will use this classification algorithm to build a model from historical data of patients, and their respond to different medications. Then you use the trained decision tree to predict the class of a unknown patient, or to find a proper drug for a new patient.", 
            "cell_type": "markdown", 
            "metadata": {
                "button": false, 
                "new_sheet": false, 
                "run_control": {
                    "read_only": false
                }
            }
        }, 
        {
            "source": "Import the Following Libraries:\n<ul>\n    <li> <b>numpy (as np)</b> </li>\n    <li> <b>pandas</b> </li>\n    <li> <b>DecisionTreeClassifier</b> from <b>sklearn.tree</b> </li>\n</ul>", 
            "cell_type": "markdown", 
            "metadata": {
                "button": false, 
                "new_sheet": false, 
                "run_control": {
                    "read_only": false
                }
            }
        }, 
        {
            "execution_count": 1, 
            "cell_type": "code", 
            "metadata": {
                "button": false, 
                "new_sheet": false, 
                "run_control": {
                    "read_only": false
                }
            }, 
            "outputs": [], 
            "source": "import numpy as np \nimport pandas as pd\nfrom sklearn.tree import DecisionTreeClassifier"
        }, 
        {
            "source": "### About dataset\nImagine that you are a medical researcher compiling data for a study. You have collected data about a set of patients, all of whom suffered from the same illness. During their course of treatment, each patient responded to one of 5 medications, Drug A, Drug B, Drug c, Drug x and y. \n\nPart of your job is to build a model to find out which drug might be appropriate for a future patient with the same illness. The feature sets of this dataset are Age, Sex, Blood Pressure, and Cholesterol of patients, and the target is the drug that each patient responded to. \n\nIt is a sample of binary classifier, and you can use the training part of the dataset \nto build a decision tree, and then use it to predict the class of a unknown patient, or to prescribe it to a new patient.\n", 
            "cell_type": "markdown", 
            "metadata": {
                "button": false, 
                "new_sheet": false, 
                "run_control": {
                    "read_only": false
                }
            }
        }, 
        {
            "source": "### Downloading Data\nTo download the data, we will use !wget to download it from IBM Object Storage.", 
            "cell_type": "markdown", 
            "metadata": {
                "button": false, 
                "new_sheet": false, 
                "run_control": {
                    "read_only": false
                }
            }
        }, 
        {
            "execution_count": 2, 
            "cell_type": "code", 
            "metadata": {}, 
            "outputs": [
                {
                    "output_type": "stream", 
                    "name": "stdout", 
                    "text": "--2019-02-23 10:42:28--  https://s3-api.us-geo.objectstorage.softlayer.net/cf-courses-data/CognitiveClass/ML0101ENv3/labs/drug200.csv\nResolving s3-api.us-geo.objectstorage.softlayer.net (s3-api.us-geo.objectstorage.softlayer.net)... 67.228.254.193\nConnecting to s3-api.us-geo.objectstorage.softlayer.net (s3-api.us-geo.objectstorage.softlayer.net)|67.228.254.193|:443... connected.\nHTTP request sent, awaiting response... 200 OK\nLength: 6027 (5.9K) [text/csv]\nSaving to: \u2018drug200.csv\u2019\n\n100%[======================================>] 6,027       --.-K/s   in 0s      \n\n2019-02-23 10:42:28 (901 MB/s) - \u2018drug200.csv\u2019 saved [6027/6027]\n\n"
                }
            ], 
            "source": "!wget -O drug200.csv https://s3-api.us-geo.objectstorage.softlayer.net/cf-courses-data/CognitiveClass/ML0101ENv3/labs/drug200.csv"
        }, 
        {
            "source": "__Did you know?__ When it comes to Machine Learning, you will likely be working with large datasets. As a business, where can you host your data? IBM is offering a unique opportunity for businesses, with 10 Tb of IBM Cloud Object Storage: [Sign up now for free](http://cocl.us/ML0101EN-IBM-Offer-CC)", 
            "cell_type": "markdown", 
            "metadata": {}
        }, 
        {
            "source": "now, read data using pandas dataframe:", 
            "cell_type": "markdown", 
            "metadata": {}
        }, 
        {
            "execution_count": 3, 
            "cell_type": "code", 
            "metadata": {
                "button": false, 
                "new_sheet": false, 
                "run_control": {
                    "read_only": false
                }
            }, 
            "outputs": [
                {
                    "execution_count": 3, 
                    "metadata": {}, 
                    "data": {
                        "text/html": "<div>\n<style scoped>\n    .dataframe tbody tr th:only-of-type {\n        vertical-align: middle;\n    }\n\n    .dataframe tbody tr th {\n        vertical-align: top;\n    }\n\n    .dataframe thead th {\n        text-align: right;\n    }\n</style>\n<table border=\"1\" class=\"dataframe\">\n  <thead>\n    <tr style=\"text-align: right;\">\n      <th></th>\n      <th>Age</th>\n      <th>Sex</th>\n      <th>BP</th>\n      <th>Cholesterol</th>\n      <th>Na_to_K</th>\n      <th>Drug</th>\n    </tr>\n  </thead>\n  <tbody>\n    <tr>\n      <th>0</th>\n      <td>23</td>\n      <td>F</td>\n      <td>HIGH</td>\n      <td>HIGH</td>\n      <td>25.355</td>\n      <td>drugY</td>\n    </tr>\n    <tr>\n      <th>1</th>\n      <td>47</td>\n      <td>M</td>\n      <td>LOW</td>\n      <td>HIGH</td>\n      <td>13.093</td>\n      <td>drugC</td>\n    </tr>\n    <tr>\n      <th>2</th>\n      <td>47</td>\n      <td>M</td>\n      <td>LOW</td>\n      <td>HIGH</td>\n      <td>10.114</td>\n      <td>drugC</td>\n    </tr>\n    <tr>\n      <th>3</th>\n      <td>28</td>\n      <td>F</td>\n      <td>NORMAL</td>\n      <td>HIGH</td>\n      <td>7.798</td>\n      <td>drugX</td>\n    </tr>\n    <tr>\n      <th>4</th>\n      <td>61</td>\n      <td>F</td>\n      <td>LOW</td>\n      <td>HIGH</td>\n      <td>18.043</td>\n      <td>drugY</td>\n    </tr>\n  </tbody>\n</table>\n</div>", 
                        "text/plain": "   Age Sex      BP Cholesterol  Na_to_K   Drug\n0   23   F    HIGH        HIGH   25.355  drugY\n1   47   M     LOW        HIGH   13.093  drugC\n2   47   M     LOW        HIGH   10.114  drugC\n3   28   F  NORMAL        HIGH    7.798  drugX\n4   61   F     LOW        HIGH   18.043  drugY"
                    }, 
                    "output_type": "execute_result"
                }
            ], 
            "source": "my_data = pd.read_csv(\"drug200.csv\", delimiter=\",\")\nmy_data[0:5]"
        }, 
        {
            "source": "## Practice \nWhat is the size of data? ", 
            "cell_type": "markdown", 
            "metadata": {
                "button": false, 
                "new_sheet": false, 
                "run_control": {
                    "read_only": false
                }
            }
        }, 
        {
            "execution_count": 7, 
            "cell_type": "code", 
            "metadata": {
                "collapsed": true
            }, 
            "outputs": [
                {
                    "execution_count": 7, 
                    "metadata": {}, 
                    "data": {
                        "text/html": "<div>\n<style scoped>\n    .dataframe tbody tr th:only-of-type {\n        vertical-align: middle;\n    }\n\n    .dataframe tbody tr th {\n        vertical-align: top;\n    }\n\n    .dataframe thead th {\n        text-align: right;\n    }\n</style>\n<table border=\"1\" class=\"dataframe\">\n  <thead>\n    <tr style=\"text-align: right;\">\n      <th></th>\n      <th>Age</th>\n      <th>Sex</th>\n      <th>BP</th>\n      <th>Cholesterol</th>\n      <th>Na_to_K</th>\n      <th>Drug</th>\n    </tr>\n  </thead>\n  <tbody>\n    <tr>\n      <th>0</th>\n      <td>23</td>\n      <td>F</td>\n      <td>HIGH</td>\n      <td>HIGH</td>\n      <td>25.355</td>\n      <td>drugY</td>\n    </tr>\n    <tr>\n      <th>1</th>\n      <td>47</td>\n      <td>M</td>\n      <td>LOW</td>\n      <td>HIGH</td>\n      <td>13.093</td>\n      <td>drugC</td>\n    </tr>\n    <tr>\n      <th>2</th>\n      <td>47</td>\n      <td>M</td>\n      <td>LOW</td>\n      <td>HIGH</td>\n      <td>10.114</td>\n      <td>drugC</td>\n    </tr>\n    <tr>\n      <th>3</th>\n      <td>28</td>\n      <td>F</td>\n      <td>NORMAL</td>\n      <td>HIGH</td>\n      <td>7.798</td>\n      <td>drugX</td>\n    </tr>\n    <tr>\n      <th>4</th>\n      <td>61</td>\n      <td>F</td>\n      <td>LOW</td>\n      <td>HIGH</td>\n      <td>18.043</td>\n      <td>drugY</td>\n    </tr>\n    <tr>\n      <th>5</th>\n      <td>22</td>\n      <td>F</td>\n      <td>NORMAL</td>\n      <td>HIGH</td>\n      <td>8.607</td>\n      <td>drugX</td>\n    </tr>\n    <tr>\n      <th>6</th>\n      <td>49</td>\n      <td>F</td>\n      <td>NORMAL</td>\n      <td>HIGH</td>\n      <td>16.275</td>\n      <td>drugY</td>\n    </tr>\n    <tr>\n      <th>7</th>\n      <td>41</td>\n      <td>M</td>\n      <td>LOW</td>\n      <td>HIGH</td>\n      <td>11.037</td>\n      <td>drugC</td>\n    </tr>\n    <tr>\n      <th>8</th>\n      <td>60</td>\n      <td>M</td>\n      <td>NORMAL</td>\n      <td>HIGH</td>\n      <td>15.171</td>\n      <td>drugY</td>\n    </tr>\n    <tr>\n      <th>9</th>\n      <td>43</td>\n      <td>M</td>\n      <td>LOW</td>\n      <td>NORMAL</td>\n      <td>19.368</td>\n      <td>drugY</td>\n    </tr>\n    <tr>\n      <th>10</th>\n      <td>47</td>\n      <td>F</td>\n      <td>LOW</td>\n      <td>HIGH</td>\n      <td>11.767</td>\n      <td>drugC</td>\n    </tr>\n    <tr>\n      <th>11</th>\n      <td>34</td>\n      <td>F</td>\n      <td>HIGH</td>\n      <td>NORMAL</td>\n      <td>19.199</td>\n      <td>drugY</td>\n    </tr>\n    <tr>\n      <th>12</th>\n      <td>43</td>\n      <td>M</td>\n      <td>LOW</td>\n      <td>HIGH</td>\n      <td>15.376</td>\n      <td>drugY</td>\n    </tr>\n    <tr>\n      <th>13</th>\n      <td>74</td>\n      <td>F</td>\n      <td>LOW</td>\n      <td>HIGH</td>\n      <td>20.942</td>\n      <td>drugY</td>\n    </tr>\n    <tr>\n      <th>14</th>\n      <td>50</td>\n      <td>F</td>\n      <td>NORMAL</td>\n      <td>HIGH</td>\n      <td>12.703</td>\n      <td>drugX</td>\n    </tr>\n    <tr>\n      <th>15</th>\n      <td>16</td>\n      <td>F</td>\n      <td>HIGH</td>\n      <td>NORMAL</td>\n      <td>15.516</td>\n      <td>drugY</td>\n    </tr>\n    <tr>\n      <th>16</th>\n      <td>69</td>\n      <td>M</td>\n      <td>LOW</td>\n      <td>NORMAL</td>\n      <td>11.455</td>\n      <td>drugX</td>\n    </tr>\n    <tr>\n      <th>17</th>\n      <td>43</td>\n      <td>M</td>\n      <td>HIGH</td>\n      <td>HIGH</td>\n      <td>13.972</td>\n      <td>drugA</td>\n    </tr>\n    <tr>\n      <th>18</th>\n      <td>23</td>\n      <td>M</td>\n      <td>LOW</td>\n      <td>HIGH</td>\n      <td>7.298</td>\n      <td>drugC</td>\n    </tr>\n    <tr>\n      <th>19</th>\n      <td>32</td>\n      <td>F</td>\n      <td>HIGH</td>\n      <td>NORMAL</td>\n      <td>25.974</td>\n      <td>drugY</td>\n    </tr>\n    <tr>\n      <th>20</th>\n      <td>57</td>\n      <td>M</td>\n      <td>LOW</td>\n      <td>NORMAL</td>\n      <td>19.128</td>\n      <td>drugY</td>\n    </tr>\n    <tr>\n      <th>21</th>\n      <td>63</td>\n      <td>M</td>\n      <td>NORMAL</td>\n      <td>HIGH</td>\n      <td>25.917</td>\n      <td>drugY</td>\n    </tr>\n    <tr>\n      <th>22</th>\n      <td>47</td>\n      <td>M</td>\n      <td>LOW</td>\n      <td>NORMAL</td>\n      <td>30.568</td>\n      <td>drugY</td>\n    </tr>\n    <tr>\n      <th>23</th>\n      <td>48</td>\n      <td>F</td>\n      <td>LOW</td>\n      <td>HIGH</td>\n      <td>15.036</td>\n      <td>drugY</td>\n    </tr>\n    <tr>\n      <th>24</th>\n      <td>33</td>\n      <td>F</td>\n      <td>LOW</td>\n      <td>HIGH</td>\n      <td>33.486</td>\n      <td>drugY</td>\n    </tr>\n    <tr>\n      <th>25</th>\n      <td>28</td>\n      <td>F</td>\n      <td>HIGH</td>\n      <td>NORMAL</td>\n      <td>18.809</td>\n      <td>drugY</td>\n    </tr>\n    <tr>\n      <th>26</th>\n      <td>31</td>\n      <td>M</td>\n      <td>HIGH</td>\n      <td>HIGH</td>\n      <td>30.366</td>\n      <td>drugY</td>\n    </tr>\n    <tr>\n      <th>27</th>\n      <td>49</td>\n      <td>F</td>\n      <td>NORMAL</td>\n      <td>NORMAL</td>\n      <td>9.381</td>\n      <td>drugX</td>\n    </tr>\n    <tr>\n      <th>28</th>\n      <td>39</td>\n      <td>F</td>\n      <td>LOW</td>\n      <td>NORMAL</td>\n      <td>22.697</td>\n      <td>drugY</td>\n    </tr>\n    <tr>\n      <th>29</th>\n      <td>45</td>\n      <td>M</td>\n      <td>LOW</td>\n      <td>HIGH</td>\n      <td>17.951</td>\n      <td>drugY</td>\n    </tr>\n    <tr>\n      <th>...</th>\n      <td>...</td>\n      <td>...</td>\n      <td>...</td>\n      <td>...</td>\n      <td>...</td>\n      <td>...</td>\n    </tr>\n    <tr>\n      <th>170</th>\n      <td>28</td>\n      <td>F</td>\n      <td>NORMAL</td>\n      <td>HIGH</td>\n      <td>12.879</td>\n      <td>drugX</td>\n    </tr>\n    <tr>\n      <th>171</th>\n      <td>45</td>\n      <td>M</td>\n      <td>LOW</td>\n      <td>NORMAL</td>\n      <td>10.017</td>\n      <td>drugX</td>\n    </tr>\n    <tr>\n      <th>172</th>\n      <td>39</td>\n      <td>F</td>\n      <td>NORMAL</td>\n      <td>NORMAL</td>\n      <td>17.225</td>\n      <td>drugY</td>\n    </tr>\n    <tr>\n      <th>173</th>\n      <td>41</td>\n      <td>F</td>\n      <td>LOW</td>\n      <td>NORMAL</td>\n      <td>18.739</td>\n      <td>drugY</td>\n    </tr>\n    <tr>\n      <th>174</th>\n      <td>42</td>\n      <td>M</td>\n      <td>HIGH</td>\n      <td>NORMAL</td>\n      <td>12.766</td>\n      <td>drugA</td>\n    </tr>\n    <tr>\n      <th>175</th>\n      <td>73</td>\n      <td>F</td>\n      <td>HIGH</td>\n      <td>HIGH</td>\n      <td>18.348</td>\n      <td>drugY</td>\n    </tr>\n    <tr>\n      <th>176</th>\n      <td>48</td>\n      <td>M</td>\n      <td>HIGH</td>\n      <td>NORMAL</td>\n      <td>10.446</td>\n      <td>drugA</td>\n    </tr>\n    <tr>\n      <th>177</th>\n      <td>25</td>\n      <td>M</td>\n      <td>NORMAL</td>\n      <td>HIGH</td>\n      <td>19.011</td>\n      <td>drugY</td>\n    </tr>\n    <tr>\n      <th>178</th>\n      <td>39</td>\n      <td>M</td>\n      <td>NORMAL</td>\n      <td>HIGH</td>\n      <td>15.969</td>\n      <td>drugY</td>\n    </tr>\n    <tr>\n      <th>179</th>\n      <td>67</td>\n      <td>F</td>\n      <td>NORMAL</td>\n      <td>HIGH</td>\n      <td>15.891</td>\n      <td>drugY</td>\n    </tr>\n    <tr>\n      <th>180</th>\n      <td>22</td>\n      <td>F</td>\n      <td>HIGH</td>\n      <td>NORMAL</td>\n      <td>22.818</td>\n      <td>drugY</td>\n    </tr>\n    <tr>\n      <th>181</th>\n      <td>59</td>\n      <td>F</td>\n      <td>NORMAL</td>\n      <td>HIGH</td>\n      <td>13.884</td>\n      <td>drugX</td>\n    </tr>\n    <tr>\n      <th>182</th>\n      <td>20</td>\n      <td>F</td>\n      <td>LOW</td>\n      <td>NORMAL</td>\n      <td>11.686</td>\n      <td>drugX</td>\n    </tr>\n    <tr>\n      <th>183</th>\n      <td>36</td>\n      <td>F</td>\n      <td>HIGH</td>\n      <td>NORMAL</td>\n      <td>15.490</td>\n      <td>drugY</td>\n    </tr>\n    <tr>\n      <th>184</th>\n      <td>18</td>\n      <td>F</td>\n      <td>HIGH</td>\n      <td>HIGH</td>\n      <td>37.188</td>\n      <td>drugY</td>\n    </tr>\n    <tr>\n      <th>185</th>\n      <td>57</td>\n      <td>F</td>\n      <td>NORMAL</td>\n      <td>NORMAL</td>\n      <td>25.893</td>\n      <td>drugY</td>\n    </tr>\n    <tr>\n      <th>186</th>\n      <td>70</td>\n      <td>M</td>\n      <td>HIGH</td>\n      <td>HIGH</td>\n      <td>9.849</td>\n      <td>drugB</td>\n    </tr>\n    <tr>\n      <th>187</th>\n      <td>47</td>\n      <td>M</td>\n      <td>HIGH</td>\n      <td>HIGH</td>\n      <td>10.403</td>\n      <td>drugA</td>\n    </tr>\n    <tr>\n      <th>188</th>\n      <td>65</td>\n      <td>M</td>\n      <td>HIGH</td>\n      <td>NORMAL</td>\n      <td>34.997</td>\n      <td>drugY</td>\n    </tr>\n    <tr>\n      <th>189</th>\n      <td>64</td>\n      <td>M</td>\n      <td>HIGH</td>\n      <td>NORMAL</td>\n      <td>20.932</td>\n      <td>drugY</td>\n    </tr>\n    <tr>\n      <th>190</th>\n      <td>58</td>\n      <td>M</td>\n      <td>HIGH</td>\n      <td>HIGH</td>\n      <td>18.991</td>\n      <td>drugY</td>\n    </tr>\n    <tr>\n      <th>191</th>\n      <td>23</td>\n      <td>M</td>\n      <td>HIGH</td>\n      <td>HIGH</td>\n      <td>8.011</td>\n      <td>drugA</td>\n    </tr>\n    <tr>\n      <th>192</th>\n      <td>72</td>\n      <td>M</td>\n      <td>LOW</td>\n      <td>HIGH</td>\n      <td>16.310</td>\n      <td>drugY</td>\n    </tr>\n    <tr>\n      <th>193</th>\n      <td>72</td>\n      <td>M</td>\n      <td>LOW</td>\n      <td>HIGH</td>\n      <td>6.769</td>\n      <td>drugC</td>\n    </tr>\n    <tr>\n      <th>194</th>\n      <td>46</td>\n      <td>F</td>\n      <td>HIGH</td>\n      <td>HIGH</td>\n      <td>34.686</td>\n      <td>drugY</td>\n    </tr>\n    <tr>\n      <th>195</th>\n      <td>56</td>\n      <td>F</td>\n      <td>LOW</td>\n      <td>HIGH</td>\n      <td>11.567</td>\n      <td>drugC</td>\n    </tr>\n    <tr>\n      <th>196</th>\n      <td>16</td>\n      <td>M</td>\n      <td>LOW</td>\n      <td>HIGH</td>\n      <td>12.006</td>\n      <td>drugC</td>\n    </tr>\n    <tr>\n      <th>197</th>\n      <td>52</td>\n      <td>M</td>\n      <td>NORMAL</td>\n      <td>HIGH</td>\n      <td>9.894</td>\n      <td>drugX</td>\n    </tr>\n    <tr>\n      <th>198</th>\n      <td>23</td>\n      <td>M</td>\n      <td>NORMAL</td>\n      <td>NORMAL</td>\n      <td>14.020</td>\n      <td>drugX</td>\n    </tr>\n    <tr>\n      <th>199</th>\n      <td>40</td>\n      <td>F</td>\n      <td>LOW</td>\n      <td>NORMAL</td>\n      <td>11.349</td>\n      <td>drugX</td>\n    </tr>\n  </tbody>\n</table>\n<p>200 rows \u00d7 6 columns</p>\n</div>", 
                        "text/plain": "     Age Sex      BP Cholesterol  Na_to_K   Drug\n0     23   F    HIGH        HIGH   25.355  drugY\n1     47   M     LOW        HIGH   13.093  drugC\n2     47   M     LOW        HIGH   10.114  drugC\n3     28   F  NORMAL        HIGH    7.798  drugX\n4     61   F     LOW        HIGH   18.043  drugY\n5     22   F  NORMAL        HIGH    8.607  drugX\n6     49   F  NORMAL        HIGH   16.275  drugY\n7     41   M     LOW        HIGH   11.037  drugC\n8     60   M  NORMAL        HIGH   15.171  drugY\n9     43   M     LOW      NORMAL   19.368  drugY\n10    47   F     LOW        HIGH   11.767  drugC\n11    34   F    HIGH      NORMAL   19.199  drugY\n12    43   M     LOW        HIGH   15.376  drugY\n13    74   F     LOW        HIGH   20.942  drugY\n14    50   F  NORMAL        HIGH   12.703  drugX\n15    16   F    HIGH      NORMAL   15.516  drugY\n16    69   M     LOW      NORMAL   11.455  drugX\n17    43   M    HIGH        HIGH   13.972  drugA\n18    23   M     LOW        HIGH    7.298  drugC\n19    32   F    HIGH      NORMAL   25.974  drugY\n20    57   M     LOW      NORMAL   19.128  drugY\n21    63   M  NORMAL        HIGH   25.917  drugY\n22    47   M     LOW      NORMAL   30.568  drugY\n23    48   F     LOW        HIGH   15.036  drugY\n24    33   F     LOW        HIGH   33.486  drugY\n25    28   F    HIGH      NORMAL   18.809  drugY\n26    31   M    HIGH        HIGH   30.366  drugY\n27    49   F  NORMAL      NORMAL    9.381  drugX\n28    39   F     LOW      NORMAL   22.697  drugY\n29    45   M     LOW        HIGH   17.951  drugY\n..   ...  ..     ...         ...      ...    ...\n170   28   F  NORMAL        HIGH   12.879  drugX\n171   45   M     LOW      NORMAL   10.017  drugX\n172   39   F  NORMAL      NORMAL   17.225  drugY\n173   41   F     LOW      NORMAL   18.739  drugY\n174   42   M    HIGH      NORMAL   12.766  drugA\n175   73   F    HIGH        HIGH   18.348  drugY\n176   48   M    HIGH      NORMAL   10.446  drugA\n177   25   M  NORMAL        HIGH   19.011  drugY\n178   39   M  NORMAL        HIGH   15.969  drugY\n179   67   F  NORMAL        HIGH   15.891  drugY\n180   22   F    HIGH      NORMAL   22.818  drugY\n181   59   F  NORMAL        HIGH   13.884  drugX\n182   20   F     LOW      NORMAL   11.686  drugX\n183   36   F    HIGH      NORMAL   15.490  drugY\n184   18   F    HIGH        HIGH   37.188  drugY\n185   57   F  NORMAL      NORMAL   25.893  drugY\n186   70   M    HIGH        HIGH    9.849  drugB\n187   47   M    HIGH        HIGH   10.403  drugA\n188   65   M    HIGH      NORMAL   34.997  drugY\n189   64   M    HIGH      NORMAL   20.932  drugY\n190   58   M    HIGH        HIGH   18.991  drugY\n191   23   M    HIGH        HIGH    8.011  drugA\n192   72   M     LOW        HIGH   16.310  drugY\n193   72   M     LOW        HIGH    6.769  drugC\n194   46   F    HIGH        HIGH   34.686  drugY\n195   56   F     LOW        HIGH   11.567  drugC\n196   16   M     LOW        HIGH   12.006  drugC\n197   52   M  NORMAL        HIGH    9.894  drugX\n198   23   M  NORMAL      NORMAL   14.020  drugX\n199   40   F     LOW      NORMAL   11.349  drugX\n\n[200 rows x 6 columns]"
                    }, 
                    "output_type": "execute_result"
                }
            ], 
            "source": "my_data"
        }, 
        {
            "execution_count": 8, 
            "cell_type": "code", 
            "metadata": {
                "button": false, 
                "new_sheet": false, 
                "run_control": {
                    "read_only": false
                }
            }, 
            "outputs": [
                {
                    "output_type": "stream", 
                    "name": "stdout", 
                    "text": "200\n1200\n"
                }
            ], 
            "source": "# write your code here\n\nprint(len(my_data))\nprint(my_data.size)"
        }, 
        {
            "source": "## Pre-processing", 
            "cell_type": "markdown", 
            "metadata": {}
        }, 
        {
            "source": "Using <b>my_data</b> as the Drug.csv data read by pandas, declare the following variables: <br>\n<ul>\n    <li> <b> X </b> as the <b> Feature Matrix </b> (data of my_data) </li>\n\n    \n    <li> <b> y </b> as the <b> response vector (target) </b> </li>\n\n\n   \n</ul>", 
            "cell_type": "markdown", 
            "metadata": {
                "button": false, 
                "new_sheet": false, 
                "run_control": {
                    "read_only": false
                }
            }
        }, 
        {
            "source": "Remove the column containing the target name since it doesn't contain numeric values.", 
            "cell_type": "markdown", 
            "metadata": {
                "button": false, 
                "new_sheet": false, 
                "run_control": {
                    "read_only": false
                }
            }
        }, 
        {
            "execution_count": 9, 
            "cell_type": "code", 
            "metadata": {}, 
            "outputs": [
                {
                    "execution_count": 9, 
                    "metadata": {}, 
                    "data": {
                        "text/plain": "array([[23, 'F', 'HIGH', 'HIGH', 25.355],\n       [47, 'M', 'LOW', 'HIGH', 13.093],\n       [47, 'M', 'LOW', 'HIGH', 10.113999999999999],\n       [28, 'F', 'NORMAL', 'HIGH', 7.797999999999999],\n       [61, 'F', 'LOW', 'HIGH', 18.043]], dtype=object)"
                    }, 
                    "output_type": "execute_result"
                }
            ], 
            "source": "X = my_data[['Age', 'Sex', 'BP', 'Cholesterol', 'Na_to_K']].values\nX[0:5]"
        }, 
        {
            "source": "As you may figure out, some featurs in this dataset are catergorical such as __Sex__ or __BP__. Unfortunately, Sklearn Decision Trees do not handle categorical variables. But still we can convert these features to numerical values. __pandas.get_dummies()__\nConvert categorical variable into dummy/indicator variables.", 
            "cell_type": "markdown", 
            "metadata": {}
        }, 
        {
            "execution_count": 10, 
            "cell_type": "code", 
            "metadata": {}, 
            "outputs": [
                {
                    "execution_count": 10, 
                    "metadata": {}, 
                    "data": {
                        "text/plain": "array([[23, 0, 0, 0, 25.355],\n       [47, 1, 1, 0, 13.093],\n       [47, 1, 1, 0, 10.113999999999999],\n       [28, 0, 2, 0, 7.797999999999999],\n       [61, 0, 1, 0, 18.043]], dtype=object)"
                    }, 
                    "output_type": "execute_result"
                }
            ], 
            "source": "from sklearn import preprocessing\nle_sex = preprocessing.LabelEncoder()\nle_sex.fit(['F','M'])\nX[:,1] = le_sex.transform(X[:,1]) \n\n\nle_BP = preprocessing.LabelEncoder()\nle_BP.fit([ 'LOW', 'NORMAL', 'HIGH'])\nX[:,2] = le_BP.transform(X[:,2])\n\n\nle_Chol = preprocessing.LabelEncoder()\nle_Chol.fit([ 'NORMAL', 'HIGH'])\nX[:,3] = le_Chol.transform(X[:,3]) \n\nX[0:5]\n"
        }, 
        {
            "source": "Now we can fill the target variable.", 
            "cell_type": "markdown", 
            "metadata": {}
        }, 
        {
            "execution_count": 11, 
            "cell_type": "code", 
            "metadata": {
                "button": false, 
                "new_sheet": false, 
                "run_control": {
                    "read_only": false
                }
            }, 
            "outputs": [
                {
                    "execution_count": 11, 
                    "metadata": {}, 
                    "data": {
                        "text/plain": "0    drugY\n1    drugC\n2    drugC\n3    drugX\n4    drugY\nName: Drug, dtype: object"
                    }, 
                    "output_type": "execute_result"
                }
            ], 
            "source": "y = my_data[\"Drug\"]\ny[0:5]"
        }, 
        {
            "source": "---\n## Setting up the Decision Tree\nWe will be using <b>train/test split</b> on our <b>decision tree</b>. Let's import <b>train_test_split</b> from <b>sklearn.cross_validation</b>.", 
            "cell_type": "markdown", 
            "metadata": {
                "button": false, 
                "new_sheet": false, 
                "run_control": {
                    "read_only": false
                }
            }
        }, 
        {
            "execution_count": 12, 
            "cell_type": "code", 
            "metadata": {
                "button": false, 
                "new_sheet": false, 
                "run_control": {
                    "read_only": false
                }
            }, 
            "outputs": [], 
            "source": "from sklearn.model_selection import train_test_split"
        }, 
        {
            "source": "Now <b> train_test_split </b> will return 4 different parameters. We will name them:<br>\nX_trainset, X_testset, y_trainset, y_testset <br> <br>\nThe <b> train_test_split </b> will need the parameters: <br>\nX, y, test_size=0.3, and random_state=3. <br> <br>\nThe <b>X</b> and <b>y</b> are the arrays required before the split, the <b>test_size</b> represents the ratio of the testing dataset, and the <b>random_state</b> ensures that we obtain the same splits.", 
            "cell_type": "markdown", 
            "metadata": {
                "button": false, 
                "new_sheet": false, 
                "run_control": {
                    "read_only": false
                }
            }
        }, 
        {
            "execution_count": 13, 
            "cell_type": "code", 
            "metadata": {
                "button": false, 
                "new_sheet": false, 
                "run_control": {
                    "read_only": false
                }
            }, 
            "outputs": [], 
            "source": "X_trainset, X_testset, y_trainset, y_testset = train_test_split(X, y, test_size=0.3, random_state=3)"
        }, 
        {
            "source": "## Practice\nPrint the shape of X_trainset and y_trainset. Ensure that the dimensions match", 
            "cell_type": "markdown", 
            "metadata": {
                "button": false, 
                "new_sheet": false, 
                "run_control": {
                    "read_only": false
                }
            }
        }, 
        {
            "execution_count": 15, 
            "cell_type": "code", 
            "metadata": {
                "button": false, 
                "new_sheet": false, 
                "run_control": {
                    "read_only": false
                }
            }, 
            "outputs": [
                {
                    "output_type": "stream", 
                    "name": "stdout", 
                    "text": "(140, 5)\n(140,)\n"
                }
            ], 
            "source": "# your code\n\nprint(X_trainset.shape)\nprint(y_trainset.shape)"
        }, 
        {
            "source": "Print the shape of X_testset and y_testset. Ensure that the dimensions match", 
            "cell_type": "markdown", 
            "metadata": {
                "button": false, 
                "new_sheet": false, 
                "run_control": {
                    "read_only": false
                }
            }
        }, 
        {
            "execution_count": 16, 
            "cell_type": "code", 
            "metadata": {
                "button": false, 
                "new_sheet": false, 
                "run_control": {
                    "read_only": false
                }
            }, 
            "outputs": [
                {
                    "output_type": "stream", 
                    "name": "stdout", 
                    "text": "(60, 5)\n(60,)\n"
                }
            ], 
            "source": "# your code\nprint(X_testset.shape)\nprint(y_testset.shape)\n"
        }, 
        {
            "source": "## Modeling\nWe will first create an instance of the <b>DecisionTreeClassifier</b> called <b>drugTree</b>.<br>\nInside of the classifier, specify <i> criterion=\"entropy\" </i> so we can see the information gain of each node.", 
            "cell_type": "markdown", 
            "metadata": {
                "button": false, 
                "new_sheet": false, 
                "run_control": {
                    "read_only": false
                }
            }
        }, 
        {
            "execution_count": 17, 
            "cell_type": "code", 
            "metadata": {
                "button": false, 
                "new_sheet": false, 
                "run_control": {
                    "read_only": false
                }
            }, 
            "outputs": [
                {
                    "execution_count": 17, 
                    "metadata": {}, 
                    "data": {
                        "text/plain": "DecisionTreeClassifier(class_weight=None, criterion='entropy', max_depth=4,\n            max_features=None, max_leaf_nodes=None,\n            min_impurity_decrease=0.0, min_impurity_split=None,\n            min_samples_leaf=1, min_samples_split=2,\n            min_weight_fraction_leaf=0.0, presort=False, random_state=None,\n            splitter='best')"
                    }, 
                    "output_type": "execute_result"
                }
            ], 
            "source": "drugTree = DecisionTreeClassifier(criterion=\"entropy\", max_depth = 4)\ndrugTree # it shows the default parameters"
        }, 
        {
            "source": "Next, we will fit the data with the training feature matrix <b> X_trainset </b> and training  response vector <b> y_trainset </b>", 
            "cell_type": "markdown", 
            "metadata": {
                "button": false, 
                "new_sheet": false, 
                "run_control": {
                    "read_only": false
                }
            }
        }, 
        {
            "execution_count": 18, 
            "cell_type": "code", 
            "metadata": {
                "button": false, 
                "new_sheet": false, 
                "run_control": {
                    "read_only": false
                }
            }, 
            "outputs": [
                {
                    "execution_count": 18, 
                    "metadata": {}, 
                    "data": {
                        "text/plain": "DecisionTreeClassifier(class_weight=None, criterion='entropy', max_depth=4,\n            max_features=None, max_leaf_nodes=None,\n            min_impurity_decrease=0.0, min_impurity_split=None,\n            min_samples_leaf=1, min_samples_split=2,\n            min_weight_fraction_leaf=0.0, presort=False, random_state=None,\n            splitter='best')"
                    }, 
                    "output_type": "execute_result"
                }
            ], 
            "source": "drugTree.fit(X_trainset,y_trainset)"
        }, 
        {
            "source": "## Prediction\nLet's make some <b>predictions</b> on the testing dataset and store it into a variable called <b>predTree</b>.", 
            "cell_type": "markdown", 
            "metadata": {
                "button": false, 
                "new_sheet": false, 
                "run_control": {
                    "read_only": false
                }
            }
        }, 
        {
            "execution_count": 19, 
            "cell_type": "code", 
            "metadata": {
                "button": false, 
                "new_sheet": false, 
                "run_control": {
                    "read_only": false
                }
            }, 
            "outputs": [], 
            "source": "predTree = drugTree.predict(X_testset)"
        }, 
        {
            "source": "You can print out <b>predTree</b> and <b>y_testset</b> if you want to visually compare the prediction to the actual values.", 
            "cell_type": "markdown", 
            "metadata": {
                "button": false, 
                "new_sheet": false, 
                "run_control": {
                    "read_only": false
                }
            }
        }, 
        {
            "execution_count": 20, 
            "cell_type": "code", 
            "metadata": {
                "scrolled": true, 
                "button": false, 
                "new_sheet": false, 
                "run_control": {
                    "read_only": false
                }
            }, 
            "outputs": [
                {
                    "output_type": "stream", 
                    "name": "stdout", 
                    "text": "['drugY' 'drugX' 'drugX' 'drugX' 'drugX']\n40     drugY\n51     drugX\n139    drugX\n197    drugX\n170    drugX\nName: Drug, dtype: object\n"
                }
            ], 
            "source": "print (predTree [0:5])\nprint (y_testset [0:5])\n"
        }, 
        {
            "source": "## Evaluation\nNext, let's import __metrics__ from sklearn and check the accuracy of our model.", 
            "cell_type": "markdown", 
            "metadata": {
                "button": false, 
                "new_sheet": false, 
                "run_control": {
                    "read_only": false
                }
            }
        }, 
        {
            "execution_count": 21, 
            "cell_type": "code", 
            "metadata": {
                "button": false, 
                "new_sheet": false, 
                "run_control": {
                    "read_only": false
                }
            }, 
            "outputs": [
                {
                    "output_type": "stream", 
                    "name": "stdout", 
                    "text": "DecisionTrees's Accuracy:  0.983333333333\n"
                }
            ], 
            "source": "from sklearn import metrics\nimport matplotlib.pyplot as plt\nprint(\"DecisionTrees's Accuracy: \", metrics.accuracy_score(y_testset, predTree))"
        }, 
        {
            "source": "__Accuracy classification score__ computes subset accuracy: the set of labels predicted for a sample must exactly match the corresponding set of labels in y_true.  \n\nIn multilabel classification, the function returns the subset accuracy. If the entire set of predicted labels for a sample strictly match with the true set of labels, then the subset accuracy is 1.0; otherwise it is 0.0.\n", 
            "cell_type": "markdown", 
            "metadata": {
                "button": false, 
                "new_sheet": false, 
                "run_control": {
                    "read_only": false
                }
            }
        }, 
        {
            "source": "## Practice \nCan you calculate the accuracy score without sklearn ?", 
            "cell_type": "markdown", 
            "metadata": {
                "button": false, 
                "new_sheet": false, 
                "run_control": {
                    "read_only": false
                }
            }
        }, 
        {
            "execution_count": null, 
            "cell_type": "code", 
            "metadata": {
                "button": false, 
                "new_sheet": false, 
                "collapsed": true, 
                "run_control": {
                    "read_only": false
                }
            }, 
            "outputs": [], 
            "source": "# your code here\n\n"
        }, 
        {
            "source": "## Visualization\nLets visualize the tree", 
            "cell_type": "markdown", 
            "metadata": {}
        }, 
        {
            "execution_count": 26, 
            "cell_type": "code", 
            "metadata": {
                "button": false, 
                "new_sheet": false, 
                "run_control": {
                    "read_only": false
                }
            }, 
            "outputs": [
                {
                    "ename": "ImportError", 
                    "evalue": "No module named 'pydotplus'", 
                    "traceback": [
                        "\u001b[0;31m---------------------------------------------------------------------------\u001b[0m", 
                        "\u001b[0;31mImportError\u001b[0m                               Traceback (most recent call last)", 
                        "\u001b[0;32m<ipython-input-26-de4db55a915a>\u001b[0m in \u001b[0;36m<module>\u001b[0;34m()\u001b[0m\n\u001b[1;32m      1\u001b[0m \u001b[0;32mfrom\u001b[0m \u001b[0msklearn\u001b[0m\u001b[0;34m.\u001b[0m\u001b[0mexternals\u001b[0m\u001b[0;34m.\u001b[0m\u001b[0msix\u001b[0m \u001b[0;32mimport\u001b[0m \u001b[0mStringIO\u001b[0m\u001b[0;34m\u001b[0m\u001b[0m\n\u001b[0;32m----> 2\u001b[0;31m \u001b[0;32mimport\u001b[0m \u001b[0mpydotplus\u001b[0m\u001b[0;34m\u001b[0m\u001b[0m\n\u001b[0m\u001b[1;32m      3\u001b[0m \u001b[0;32mimport\u001b[0m \u001b[0mmatplotlib\u001b[0m\u001b[0;34m.\u001b[0m\u001b[0mimage\u001b[0m \u001b[0;32mas\u001b[0m \u001b[0mmpimg\u001b[0m\u001b[0;34m\u001b[0m\u001b[0m\n\u001b[1;32m      4\u001b[0m \u001b[0;32mfrom\u001b[0m \u001b[0msklearn\u001b[0m \u001b[0;32mimport\u001b[0m \u001b[0mtree\u001b[0m\u001b[0;34m\u001b[0m\u001b[0m\n\u001b[1;32m      5\u001b[0m \u001b[0mget_ipython\u001b[0m\u001b[0;34m(\u001b[0m\u001b[0;34m)\u001b[0m\u001b[0;34m.\u001b[0m\u001b[0mmagic\u001b[0m\u001b[0;34m(\u001b[0m\u001b[0;34m'matplotlib inline'\u001b[0m\u001b[0;34m)\u001b[0m\u001b[0;34m\u001b[0m\u001b[0m\n", 
                        "\u001b[0;31mImportError\u001b[0m: No module named 'pydotplus'"
                    ], 
                    "output_type": "error"
                }
            ], 
            "source": "from sklearn.externals.six import StringIO\nimport pydotplus\nimport matplotlib.image as mpimg\nfrom sklearn import tree\n%matplotlib inline "
        }, 
        {
            "execution_count": 25, 
            "cell_type": "code", 
            "metadata": {
                "button": false, 
                "new_sheet": false, 
                "run_control": {
                    "read_only": false
                }
            }, 
            "outputs": [
                {
                    "ename": "NameError", 
                    "evalue": "name 'pydotplus' is not defined", 
                    "traceback": [
                        "\u001b[0;31m---------------------------------------------------------------------------\u001b[0m", 
                        "\u001b[0;31mNameError\u001b[0m                                 Traceback (most recent call last)", 
                        "\u001b[0;32m<ipython-input-25-f3e2ed88aff3>\u001b[0m in \u001b[0;36m<module>\u001b[0;34m()\u001b[0m\n\u001b[1;32m      4\u001b[0m \u001b[0mtargetNames\u001b[0m \u001b[0;34m=\u001b[0m \u001b[0mmy_data\u001b[0m\u001b[0;34m[\u001b[0m\u001b[0;34m\"Drug\"\u001b[0m\u001b[0;34m]\u001b[0m\u001b[0;34m.\u001b[0m\u001b[0munique\u001b[0m\u001b[0;34m(\u001b[0m\u001b[0;34m)\u001b[0m\u001b[0;34m.\u001b[0m\u001b[0mtolist\u001b[0m\u001b[0;34m(\u001b[0m\u001b[0;34m)\u001b[0m\u001b[0;34m\u001b[0m\u001b[0m\n\u001b[1;32m      5\u001b[0m \u001b[0mout\u001b[0m\u001b[0;34m=\u001b[0m\u001b[0mtree\u001b[0m\u001b[0;34m.\u001b[0m\u001b[0mexport_graphviz\u001b[0m\u001b[0;34m(\u001b[0m\u001b[0mdrugTree\u001b[0m\u001b[0;34m,\u001b[0m\u001b[0mfeature_names\u001b[0m\u001b[0;34m=\u001b[0m\u001b[0mfeatureNames\u001b[0m\u001b[0;34m,\u001b[0m \u001b[0mout_file\u001b[0m\u001b[0;34m=\u001b[0m\u001b[0mdot_data\u001b[0m\u001b[0;34m,\u001b[0m \u001b[0mclass_names\u001b[0m\u001b[0;34m=\u001b[0m \u001b[0mnp\u001b[0m\u001b[0;34m.\u001b[0m\u001b[0munique\u001b[0m\u001b[0;34m(\u001b[0m\u001b[0my_trainset\u001b[0m\u001b[0;34m)\u001b[0m\u001b[0;34m,\u001b[0m \u001b[0mfilled\u001b[0m\u001b[0;34m=\u001b[0m\u001b[0;32mTrue\u001b[0m\u001b[0;34m,\u001b[0m  \u001b[0mspecial_characters\u001b[0m\u001b[0;34m=\u001b[0m\u001b[0;32mTrue\u001b[0m\u001b[0;34m,\u001b[0m\u001b[0mrotate\u001b[0m\u001b[0;34m=\u001b[0m\u001b[0;32mFalse\u001b[0m\u001b[0;34m)\u001b[0m\u001b[0;34m\u001b[0m\u001b[0m\n\u001b[0;32m----> 6\u001b[0;31m \u001b[0mgraph\u001b[0m \u001b[0;34m=\u001b[0m \u001b[0mpydotplus\u001b[0m\u001b[0;34m.\u001b[0m\u001b[0mgraph_from_dot_data\u001b[0m\u001b[0;34m(\u001b[0m\u001b[0mdot_data\u001b[0m\u001b[0;34m.\u001b[0m\u001b[0mgetvalue\u001b[0m\u001b[0;34m(\u001b[0m\u001b[0;34m)\u001b[0m\u001b[0;34m)\u001b[0m\u001b[0;34m\u001b[0m\u001b[0m\n\u001b[0m\u001b[1;32m      7\u001b[0m \u001b[0mgraph\u001b[0m\u001b[0;34m.\u001b[0m\u001b[0mwrite_png\u001b[0m\u001b[0;34m(\u001b[0m\u001b[0mfilename\u001b[0m\u001b[0;34m)\u001b[0m\u001b[0;34m\u001b[0m\u001b[0m\n\u001b[1;32m      8\u001b[0m \u001b[0mimg\u001b[0m \u001b[0;34m=\u001b[0m \u001b[0mmpimg\u001b[0m\u001b[0;34m.\u001b[0m\u001b[0mimread\u001b[0m\u001b[0;34m(\u001b[0m\u001b[0mfilename\u001b[0m\u001b[0;34m)\u001b[0m\u001b[0;34m\u001b[0m\u001b[0m\n", 
                        "\u001b[0;31mNameError\u001b[0m: name 'pydotplus' is not defined"
                    ], 
                    "output_type": "error"
                }
            ], 
            "source": "dot_data = StringIO()\nfilename = \"drugtree.png\"\nfeatureNames = my_data.columns[0:5]\ntargetNames = my_data[\"Drug\"].unique().tolist()\nout=tree.export_graphviz(drugTree,feature_names=featureNames, out_file=dot_data, class_names= np.unique(y_trainset), filled=True,  special_characters=True,rotate=False)  \ngraph = pydotplus.graph_from_dot_data(dot_data.getvalue())  \ngraph.write_png(filename)\nimg = mpimg.imread(filename)\nplt.figure(figsize=(100, 200))\nplt.imshow(img,interpolation='nearest')"
        }, 
        {
            "source": "## Want to learn more?\n\nIBM SPSS Modeler is a comprehensive analytics platform that has many machine learning algorithms. It has been designed to bring predictive intelligence to decisions made by individuals, by groups, by systems \u2013 by your enterprise as a whole. A free trial is available through this course, available here: [SPSS Modeler](http://cocl.us/ML0101EN-SPSSModeler).\n\nAlso, you can use Watson Studio to run these notebooks faster with bigger datasets. Watson Studio is IBM's leading cloud solution for data scientists, built by data scientists. With Jupyter notebooks, RStudio, Apache Spark and popular libraries pre-packaged in the cloud, Watson Studio enables data scientists to collaborate on their projects without having to install anything. Join the fast-growing community of Watson Studio users today with a free account at [Watson Studio](https://cocl.us/ML0101EN_DSX)\n\n### Thanks for completing this lesson!\n\nNotebook created by: <a href = \"https://ca.linkedin.com/in/saeedaghabozorgi\">Saeed Aghabozorgi</a>\n\n<hr>\nCopyright &copy; 2018 [Cognitive Class](https://cocl.us/DX0108EN_CC). This notebook and its source code are released under the terms of the [MIT License](https://bigdatauniversity.com/mit-license/).\u200b", 
            "cell_type": "markdown", 
            "metadata": {
                "button": false, 
                "new_sheet": false, 
                "run_control": {
                    "read_only": false
                }
            }
        }
    ], 
    "metadata": {
        "kernelspec": {
            "display_name": "Python 3.5", 
            "name": "python3", 
            "language": "python"
        }, 
        "widgets": {
            "state": {}, 
            "version": "1.1.2"
        }, 
        "language_info": {
            "mimetype": "text/x-python", 
            "nbconvert_exporter": "python", 
            "version": "3.5.5", 
            "name": "python", 
            "file_extension": ".py", 
            "pygments_lexer": "ipython3", 
            "codemirror_mode": {
                "version": 3, 
                "name": "ipython"
            }
        }, 
        "anaconda-cloud": {}
    }, 
    "nbformat": 4
}