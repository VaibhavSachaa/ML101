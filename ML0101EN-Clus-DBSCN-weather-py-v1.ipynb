{
    "nbformat_minor": 2, 
    "cells": [
        {
            "source": "<a href=\"https://www.bigdatauniversity.com\"><img src = \"https://ibm.box.com/shared/static/cw2c7r3o20w9zn8gkecaeyjhgw3xdgbj.png\" width = 400, align = \"center\"></a>\n# <center>Density-Based Clustering</center>", 
            "cell_type": "markdown", 
            "metadata": {}
        }, 
        {
            "source": "Most of the traditional clustering techniques, such as k-means, hierarchical and fuzzy clustering, can be used to group data without supervision. \n\nHowever, when applied to tasks with arbitrary shape clusters, or clusters within cluster, the traditional techniques might be unable to achieve good results. That is, elements in the same cluster might not share enough similarity or the performance may be poor.\nAdditionally, Density-based Clustering locates regions of high density that are separated from one another by regions of low density. Density, in this context, is defined as the number of points within a specified radius.\n\n\n\nIn this section, the main focus will be manipulating the data and properties of DBSCAN and observing the resulting clustering.", 
            "cell_type": "markdown", 
            "metadata": {}
        }, 
        {
            "source": "Import the following libraries:\n<ul>\n    <li> <b>numpy as np</b> </li>\n    <li> <b>DBSCAN</b> from <b>sklearn.cluster</b> </li>\n    <li> <b>make_blobs</b> from <b>sklearn.datasets.samples_generator</b> </li>\n    <li> <b>StandardScaler</b> from <b>sklearn.preprocessing</b> </li>\n    <li> <b>matplotlib.pyplot as plt</b> </li>\n</ul> <br>\nRemember <b> %matplotlib inline </b> to display plots", 
            "cell_type": "markdown", 
            "metadata": {}
        }, 
        {
            "execution_count": null, 
            "cell_type": "code", 
            "metadata": {}, 
            "outputs": [], 
            "source": "# Notice: For visualization of map, you need basemap package.\n# if you dont have basemap install on your machine, you can use the following line to install it\n# !conda install -c conda-forge  basemap==1.1.0  matplotlib==2.2.2  -y\n# Notice: you maight have to refresh your page and re-run the notebook after installation"
        }, 
        {
            "execution_count": null, 
            "cell_type": "code", 
            "metadata": {
                "collapsed": true
            }, 
            "outputs": [], 
            "source": "import numpy as np \nfrom sklearn.cluster import DBSCAN \nfrom sklearn.datasets.samples_generator import make_blobs \nfrom sklearn.preprocessing import StandardScaler \nimport matplotlib.pyplot as plt \n%matplotlib inline"
        }, 
        {
            "source": "### Data generation\nThe function below will generate the data points and requires these inputs:\n<ul>\n    <li> <b>centroidLocation</b>: Coordinates of the centroids that will generate the random data. </li>\n    <ul> <li> Example: input: [[4,3], [2,-1], [-1,4]] </li> </ul>\n    <li> <b>numSamples</b>: The number of data points we want generated, split over the number of centroids (# of centroids defined in centroidLocation) </li>\n    <ul> <li> Example: 1500 </li> </ul>\n    <li> <b>clusterDeviation</b>: The standard deviation between the clusters. The larger the number, the further the spacing. </li>\n    <ul> <li> Example: 0.5 </li> </ul>\n</ul>", 
            "cell_type": "markdown", 
            "metadata": {}
        }, 
        {
            "execution_count": null, 
            "cell_type": "code", 
            "metadata": {
                "collapsed": true
            }, 
            "outputs": [], 
            "source": "def createDataPoints(centroidLocation, numSamples, clusterDeviation):\n    # Create random data and store in feature matrix X and response vector y.\n    X, y = make_blobs(n_samples=numSamples, centers=centroidLocation, \n                                cluster_std=clusterDeviation)\n    \n    # Standardize features by removing the mean and scaling to unit variance\n    X = StandardScaler().fit_transform(X)\n    return X, y"
        }, 
        {
            "source": "Use <b>createDataPoints</b> with the <b>3 inputs</b> and store the output into variables <b>X</b> and <b>y</b>.", 
            "cell_type": "markdown", 
            "metadata": {}
        }, 
        {
            "execution_count": null, 
            "cell_type": "code", 
            "metadata": {
                "collapsed": true
            }, 
            "outputs": [], 
            "source": "X, y = createDataPoints([[4,3], [2,-1], [-1,4]] , 1500, 0.5)"
        }, 
        {
            "source": "### Modeling\nDBSCAN stands for Density-Based Spatial Clustering of Applications with Noise. This technique is one of the most common clustering algorithms  which works based on density of object.\nThe whole idea is that if a particular point belongs to a cluster, it should be near to lots of other points in that cluster.\n\nIt works based on two parameters: Epsilon and Minimum Points  \n__Epsilon__ determine a specified radius that if includes enough number of points within, we call it dense area  \n__minimumSamples__ determine the minimum number of data points we want in a neighborhood to define a cluster.\n\n", 
            "cell_type": "markdown", 
            "metadata": {}
        }, 
        {
            "execution_count": null, 
            "cell_type": "code", 
            "metadata": {}, 
            "outputs": [], 
            "source": "epsilon = 0.3\nminimumSamples = 7\ndb = DBSCAN(eps=epsilon, min_samples=minimumSamples).fit(X)\nlabels = db.labels_\nlabels"
        }, 
        {
            "source": "### Distinguish outliers\nLets Replace all elements with 'True' in core_samples_mask that are in the cluster, 'False' if the points are outliers.", 
            "cell_type": "markdown", 
            "metadata": {}
        }, 
        {
            "execution_count": null, 
            "cell_type": "code", 
            "metadata": {}, 
            "outputs": [], 
            "source": "# Firts, create an array of booleans using the labels from db.\ncore_samples_mask = np.zeros_like(db.labels_, dtype=bool)\ncore_samples_mask[db.core_sample_indices_] = True\ncore_samples_mask"
        }, 
        {
            "execution_count": null, 
            "cell_type": "code", 
            "metadata": {}, 
            "outputs": [], 
            "source": "# Number of clusters in labels, ignoring noise if present.\nn_clusters_ = len(set(labels)) - (1 if -1 in labels else 0)\nn_clusters_"
        }, 
        {
            "execution_count": null, 
            "cell_type": "code", 
            "metadata": {}, 
            "outputs": [], 
            "source": "# Remove repetition in labels by turning it into a set.\nunique_labels = set(labels)\nunique_labels"
        }, 
        {
            "source": "### Data visualization", 
            "cell_type": "markdown", 
            "metadata": {}
        }, 
        {
            "execution_count": null, 
            "cell_type": "code", 
            "metadata": {}, 
            "outputs": [], 
            "source": "# Create colors for the clusters.\ncolors = plt.cm.Spectral(np.linspace(0, 1, len(unique_labels)))\ncolors"
        }, 
        {
            "execution_count": null, 
            "cell_type": "code", 
            "metadata": {
                "scrolled": true
            }, 
            "outputs": [], 
            "source": "# Plot the points with colors\nfor k, col in zip(unique_labels, colors):\n    if k == -1:\n        # Black used for noise.\n        col = 'k'\n\n    class_member_mask = (labels == k)\n\n    # Plot the datapoints that are clustered\n    xy = X[class_member_mask & core_samples_mask]\n    plt.scatter(xy[:, 0], xy[:, 1],s=50, c=col, marker=u'o', alpha=0.5)\n\n    # Plot the outliers\n    xy = X[class_member_mask & ~core_samples_mask]\n    plt.scatter(xy[:, 0], xy[:, 1],s=50, c=col, marker=u'o', alpha=0.5)"
        }, 
        {
            "source": "## Practice\nTo better underestand differences between partitional and density-based clusteitng, try to cluster the above dataset into 3 clusters using k-Means.  \nNotice: do not generate data again, use the same dataset as above.", 
            "cell_type": "markdown", 
            "metadata": {}
        }, 
        {
            "execution_count": null, 
            "cell_type": "code", 
            "metadata": {}, 
            "outputs": [], 
            "source": "# write your code here\n\n\n"
        }, 
        {
            "source": "Double-click __here__ for the solution.\n\n<!-- Your answer is below:\n\n\nfrom sklearn.cluster import KMeans \nk = 3\nk_means3 = KMeans(init = \"k-means++\", n_clusters = k, n_init = 12)\nk_means3.fit(X)\nfig = plt.figure(figsize=(6, 4))\nax = fig.add_subplot(1, 1, 1)\nfor k, col in zip(range(k), colors):\n    my_members = (k_means3.labels_ == k)\n    plt.scatter(X[my_members, 0], X[my_members, 1],  c=col, marker=u'o', alpha=0.5)\nplt.show()\n\n\n-->", 
            "cell_type": "markdown", 
            "metadata": {}
        }, 
        {
            "source": "\n\n\n<h1 align=center> Weather Station Clustering using DBSCAN & scikit-learn </h1>\n<hr>\n\nDBSCAN is specially very good for tasks like class identification on a spatial context. The wonderful attribute of DBSCAN algorithm is that it can find out any arbitrary shape cluster without getting affected by noise. For example, this following example cluster the location of weather stations in Canada.\n<Click 1>\nDBSCAN can be used here, for instance, to find the group of stations which show the same weather condition. As you can see, it not only finds different arbitrary shaped clusters, can find the denser part of data-centered samples by ignoring less-dense areas or noises.\n\nlet's start playing with the data. We will be working according to the following workflow: </font>\n1. Loading data\n- Overview data\n- Data cleaning\n- Data selection\n- Clusteing", 
            "cell_type": "markdown", 
            "metadata": {}
        }, 
        {
            "source": "### About the dataset\n\n\t\t\n<h4 align = \"center\">\nEnvironment Canada    \nMonthly Values for July - 2015\t\n</h4>\n<html>\n<head>\n<style>\ntable {\n    font-family: arial, sans-serif;\n    border-collapse: collapse;\n    width: 100%;\n}\n\ntd, th {\n    border: 1px solid #dddddd;\n    text-align: left;\n    padding: 8px;\n}\n\ntr:nth-child(even) {\n    background-color: #dddddd;\n}\n</style>\n</head>\n<body>\n\n<table>\n  <tr>\n    <th>Name in the table</th>\n    <th>Meaning</th>\n  </tr>\n  <tr>\n    <td><font color = \"green\"><strong>Stn_Name</font></td>\n    <td><font color = \"green\"><strong>Station Name</font</td>\n  </tr>\n  <tr>\n    <td><font color = \"green\"><strong>Lat</font></td>\n    <td><font color = \"green\"><strong>Latitude (North+, degrees)</font></td>\n  </tr>\n  <tr>\n    <td><font color = \"green\"><strong>Long</font></td>\n    <td><font color = \"green\"><strong>Longitude (West - , degrees)</font></td>\n  </tr>\n  <tr>\n    <td>Prov</td>\n    <td>Province</td>\n  </tr>\n  <tr>\n    <td>Tm</td>\n    <td>Mean Temperature (\u00b0C)</td>\n  </tr>\n  <tr>\n    <td>DwTm</td>\n    <td>Days without Valid Mean Temperature</td>\n  </tr>\n  <tr>\n    <td>D</td>\n    <td>Mean Temperature difference from Normal (1981-2010) (\u00b0C)</td>\n  </tr>\n  <tr>\n    <td><font color = \"black\">Tx</font></td>\n    <td><font color = \"black\">Highest Monthly Maximum Temperature (\u00b0C)</font></td>\n  </tr>\n  <tr>\n    <td>DwTx</td>\n    <td>Days without Valid Maximum Temperature</td>\n  </tr>\n  <tr>\n    <td><font color = \"black\">Tn</font></td>\n    <td><font color = \"black\">Lowest Monthly Minimum Temperature (\u00b0C)</font></td>\n  </tr>\n  <tr>\n    <td>DwTn</td>\n    <td>Days without Valid Minimum Temperature</td>\n  </tr>\n  <tr>\n    <td>S</td>\n    <td>Snowfall (cm)</td>\n  </tr>\n  <tr>\n    <td>DwS</td>\n    <td>Days without Valid Snowfall</td>\n  </tr>\n  <tr>\n    <td>S%N</td>\n    <td>Percent of Normal (1981-2010) Snowfall</td>\n  </tr>\n  <tr>\n    <td><font color = \"green\"><strong>P</font></td>\n    <td><font color = \"green\"><strong>Total Precipitation (mm)</font></td>\n  </tr>\n  <tr>\n    <td>DwP</td>\n    <td>Days without Valid Precipitation</td>\n  </tr>\n  <tr>\n    <td>P%N</td>\n    <td>Percent of Normal (1981-2010) Precipitation</td>\n  </tr>\n  <tr>\n    <td>S_G</td>\n    <td>Snow on the ground at the end of the month (cm)</td>\n  </tr>\n  <tr>\n    <td>Pd</td>\n    <td>Number of days with Precipitation 1.0 mm or more</td>\n  </tr>\n  <tr>\n    <td>BS</td>\n    <td>Bright Sunshine (hours)</td>\n  </tr>\n  <tr>\n    <td>DwBS</td>\n    <td>Days without Valid Bright Sunshine</td>\n  </tr>\n  <tr>\n    <td>BS%</td>\n    <td>Percent of Normal (1981-2010) Bright Sunshine</td>\n  </tr>\n  <tr>\n    <td>HDD</td>\n    <td>Degree Days below 18 \u00b0C</td>\n  </tr>\n  <tr>\n    <td>CDD</td>\n    <td>Degree Days above 18 \u00b0C</td>\n  </tr>\n  <tr>\n    <td>Stn_No</td>\n    <td>Climate station identifier (first 3 digits indicate   drainage basin, last 4 characters are for sorting alphabetically).</td>\n  </tr>\n  <tr>\n    <td>NA</td>\n    <td>Not Available</td>\n  </tr>\n\n\n</table>\n\n</body>\n</html>\n\n ", 
            "cell_type": "markdown", 
            "metadata": {}
        }, 
        {
            "source": "### 1-Download data\nTo download the data, we will use **`!wget`**. To download the data, we will use `!wget` to download it from IBM Object Storage.  \n__Did you know?__ When it comes to Machine Learning, you will likely be working with large datasets. As a business, where can you host your data? IBM is offering a unique opportunity for businesses, with 10 Tb of IBM Cloud Object Storage: [Sign up now for free](http://cocl.us/ML0101EN-IBM-Offer-CC)", 
            "cell_type": "markdown", 
            "metadata": {}
        }, 
        {
            "execution_count": null, 
            "cell_type": "code", 
            "metadata": {}, 
            "outputs": [], 
            "source": "!wget -O weather-stations20140101-20141231.csv https://s3-api.us-geo.objectstorage.softlayer.net/cf-courses-data/CognitiveClass/ML0101ENv3/labs/weather-stations20140101-20141231.csv"
        }, 
        {
            "source": "### 2- Load the dataset\nWe will import the .csv then we creates the columns for year, month and day.", 
            "cell_type": "markdown", 
            "metadata": {}
        }, 
        {
            "execution_count": null, 
            "cell_type": "code", 
            "metadata": {}, 
            "outputs": [], 
            "source": "import csv\nimport pandas as pd\nimport numpy as np\n\nfilename='weather-stations20140101-20141231.csv'\n\n#Read csv\npdf = pd.read_csv(filename)\npdf.head(5)"
        }, 
        {
            "source": "### 3-Cleaning\nLets remove rows that dont have any value in the __Tm__ field.", 
            "cell_type": "markdown", 
            "metadata": {}
        }, 
        {
            "execution_count": null, 
            "cell_type": "code", 
            "metadata": {}, 
            "outputs": [], 
            "source": "pdf = pdf[pd.notnull(pdf[\"Tm\"])]\npdf = pdf.reset_index(drop=True)\npdf.head(5)"
        }, 
        {
            "source": "### 4-Visualization\nVisualization of stations on map using basemap package. The matplotlib basemap toolkit is a library for plotting 2D data on maps in Python. Basemap does not do any plotting on it\u2019s own, but provides the facilities to transform coordinates to a map projections. \n\nPlease notice that the size of each data points represents the average of maximum temperature for each station in a year. ", 
            "cell_type": "markdown", 
            "metadata": {}
        }, 
        {
            "execution_count": null, 
            "cell_type": "code", 
            "metadata": {}, 
            "outputs": [], 
            "source": "from mpl_toolkits.basemap import Basemap\nimport matplotlib.pyplot as plt\nfrom pylab import rcParams\n%matplotlib inline\nrcParams['figure.figsize'] = (14,10)\n\nllon=-140\nulon=-50\nllat=40\nulat=65\n\npdf = pdf[(pdf['Long'] > llon) & (pdf['Long'] < ulon) & (pdf['Lat'] > llat) &(pdf['Lat'] < ulat)]\n\nmy_map = Basemap(projection='merc',\n            resolution = 'l', area_thresh = 1000.0,\n            llcrnrlon=llon, llcrnrlat=llat, #min longitude (llcrnrlon) and latitude (llcrnrlat)\n            urcrnrlon=ulon, urcrnrlat=ulat) #max longitude (urcrnrlon) and latitude (urcrnrlat)\n\nmy_map.drawcoastlines()\nmy_map.drawcountries()\n# my_map.drawmapboundary()\nmy_map.fillcontinents(color = 'white', alpha = 0.3)\nmy_map.shadedrelief()\n\n# To collect data based on stations        \n\nxs,ys = my_map(np.asarray(pdf.Long), np.asarray(pdf.Lat))\npdf['xm']= xs.tolist()\npdf['ym'] =ys.tolist()\n\n#Visualization1\nfor index,row in pdf.iterrows():\n#   x,y = my_map(row.Long, row.Lat)\n   my_map.plot(row.xm, row.ym,markerfacecolor =([1,0,0]),  marker='o', markersize= 5, alpha = 0.75)\n#plt.text(x,y,stn)\nplt.show()\n\n"
        }, 
        {
            "source": "### 5- Clustering of stations based on their location i.e. Lat & Lon\n\n__DBSCAN__ form sklearn library can runs DBSCAN clustering from vector array or distance matrix. In our case, we pass it the Numpy array Clus_dataSet to find core samples of high density and expands clusters from them. ", 
            "cell_type": "markdown", 
            "metadata": {}
        }, 
        {
            "execution_count": null, 
            "cell_type": "code", 
            "metadata": {}, 
            "outputs": [], 
            "source": "from sklearn.cluster import DBSCAN\nimport sklearn.utils\nfrom sklearn.preprocessing import StandardScaler\nsklearn.utils.check_random_state(1000)\nClus_dataSet = pdf[['xm','ym']]\nClus_dataSet = np.nan_to_num(Clus_dataSet)\nClus_dataSet = StandardScaler().fit_transform(Clus_dataSet)\n\n# Compute DBSCAN\ndb = DBSCAN(eps=0.15, min_samples=10).fit(Clus_dataSet)\ncore_samples_mask = np.zeros_like(db.labels_, dtype=bool)\ncore_samples_mask[db.core_sample_indices_] = True\nlabels = db.labels_\npdf[\"Clus_Db\"]=labels\n\nrealClusterNum=len(set(labels)) - (1 if -1 in labels else 0)\nclusterNum = len(set(labels)) \n\n\n# A sample of clusters\npdf[[\"Stn_Name\",\"Tx\",\"Tm\",\"Clus_Db\"]].head(5)"
        }, 
        {
            "source": "As you can see for outliers, the cluster label is -1", 
            "cell_type": "markdown", 
            "metadata": {}
        }, 
        {
            "execution_count": null, 
            "cell_type": "code", 
            "metadata": {}, 
            "outputs": [], 
            "source": "set(labels)"
        }, 
        {
            "source": "### 6- Visualization of clusters based on location\nNow, we can visualize the clusters using basemap:", 
            "cell_type": "markdown", 
            "metadata": {}
        }, 
        {
            "execution_count": null, 
            "cell_type": "code", 
            "metadata": {}, 
            "outputs": [], 
            "source": "from mpl_toolkits.basemap import Basemap\nimport matplotlib.pyplot as plt\nfrom pylab import rcParams\n%matplotlib inline\nrcParams['figure.figsize'] = (14,10)\n\nmy_map = Basemap(projection='merc',\n            resolution = 'l', area_thresh = 1000.0,\n            llcrnrlon=llon, llcrnrlat=llat, #min longitude (llcrnrlon) and latitude (llcrnrlat)\n            urcrnrlon=ulon, urcrnrlat=ulat) #max longitude (urcrnrlon) and latitude (urcrnrlat)\n\nmy_map.drawcoastlines()\nmy_map.drawcountries()\n#my_map.drawmapboundary()\nmy_map.fillcontinents(color = 'white', alpha = 0.3)\nmy_map.shadedrelief()\n\n# To create a color map\ncolors = plt.get_cmap('jet')(np.linspace(0.0, 1.0, clusterNum))\n\n\n\n#Visualization1\nfor clust_number in set(labels):\n    c=(([0.4,0.4,0.4]) if clust_number == -1 else colors[np.int(clust_number)])\n    clust_set = pdf[pdf.Clus_Db == clust_number]                    \n    my_map.scatter(clust_set.xm, clust_set.ym, color =c,  marker='o', s= 20, alpha = 0.85)\n    if clust_number != -1:\n        cenx=np.mean(clust_set.xm) \n        ceny=np.mean(clust_set.ym) \n        plt.text(cenx,ceny,str(clust_number), fontsize=25, color='red',)\n        print (\"Cluster \"+str(clust_number)+', Avg Temp: '+ str(np.mean(clust_set.Tm)))"
        }, 
        {
            "source": "### 7- Clustering of stations based on their location, mean, max, and min Temperature\nIn this section we re-run DBSCAN, but this time on a 5-dimensional dataset:", 
            "cell_type": "markdown", 
            "metadata": {}
        }, 
        {
            "execution_count": null, 
            "cell_type": "code", 
            "metadata": {
                "scrolled": true
            }, 
            "outputs": [], 
            "source": "from sklearn.cluster import DBSCAN\nimport sklearn.utils\nfrom sklearn.preprocessing import StandardScaler\nsklearn.utils.check_random_state(1000)\nClus_dataSet = pdf[['xm','ym','Tx','Tm','Tn']]\nClus_dataSet = np.nan_to_num(Clus_dataSet)\nClus_dataSet = StandardScaler().fit_transform(Clus_dataSet)\n\n# Compute DBSCAN\ndb = DBSCAN(eps=0.3, min_samples=10).fit(Clus_dataSet)\ncore_samples_mask = np.zeros_like(db.labels_, dtype=bool)\ncore_samples_mask[db.core_sample_indices_] = True\nlabels = db.labels_\npdf[\"Clus_Db\"]=labels\n\nrealClusterNum=len(set(labels)) - (1 if -1 in labels else 0)\nclusterNum = len(set(labels)) \n\n\n# A sample of clusters\npdf[[\"Stn_Name\",\"Tx\",\"Tm\",\"Clus_Db\"]].head(5)"
        }, 
        {
            "source": "### 8- Visualization of clusters based on location and Temperture\n", 
            "cell_type": "markdown", 
            "metadata": {}
        }, 
        {
            "execution_count": null, 
            "cell_type": "code", 
            "metadata": {}, 
            "outputs": [], 
            "source": "from mpl_toolkits.basemap import Basemap\nimport matplotlib.pyplot as plt\nfrom pylab import rcParams\n%matplotlib inline\nrcParams['figure.figsize'] = (14,10)\n\nmy_map = Basemap(projection='merc',\n            resolution = 'l', area_thresh = 1000.0,\n            llcrnrlon=llon, llcrnrlat=llat, #min longitude (llcrnrlon) and latitude (llcrnrlat)\n            urcrnrlon=ulon, urcrnrlat=ulat) #max longitude (urcrnrlon) and latitude (urcrnrlat)\n\nmy_map.drawcoastlines()\nmy_map.drawcountries()\n#my_map.drawmapboundary()\nmy_map.fillcontinents(color = 'white', alpha = 0.3)\nmy_map.shadedrelief()\n\n# To create a color map\ncolors = plt.get_cmap('jet')(np.linspace(0.0, 1.0, clusterNum))\n\n\n\n#Visualization1\nfor clust_number in set(labels):\n    c=(([0.4,0.4,0.4]) if clust_number == -1 else colors[np.int(clust_number)])\n    clust_set = pdf[pdf.Clus_Db == clust_number]                    \n    my_map.scatter(clust_set.xm, clust_set.ym, color =c,  marker='o', s= 20, alpha = 0.85)\n    if clust_number != -1:\n        cenx=np.mean(clust_set.xm) \n        ceny=np.mean(clust_set.ym) \n        plt.text(cenx,ceny,str(clust_number), fontsize=25, color='red',)\n        print (\"Cluster \"+str(clust_number)+', Avg Temp: '+ str(np.mean(clust_set.Tm)))"
        }, 
        {
            "source": "## Want to learn more?\n\nIBM SPSS Modeler is a comprehensive analytics platform that has many machine learning algorithms. It has been designed to bring predictive intelligence to decisions made by individuals, by groups, by systems \u2013 by your enterprise as a whole. A free trial is available through this course, available here: [SPSS Modeler](http://cocl.us/ML0101EN-SPSSModeler).\n\nAlso, you can use Watson Studio to run these notebooks faster with bigger datasets. Watson Studio is IBM's leading cloud solution for data scientists, built by data scientists. With Jupyter notebooks, RStudio, Apache Spark and popular libraries pre-packaged in the cloud, Watson Studio enables data scientists to collaborate on their projects without having to install anything. Join the fast-growing community of Watson Studio users today with a free account at [Watson Studio](https://cocl.us/ML0101EN_DSX)\n\n### Thanks for completing this lesson!\n\nNotebook created by: <a href = \"https://ca.linkedin.com/in/saeedaghabozorgi\">Saeed Aghabozorgi</a>\n\n<hr>\nCopyright &copy; 2018 [Cognitive Class](https://cocl.us/DX0108EN_CC). This notebook and its source code are released under the terms of the [MIT License](https://bigdatauniversity.com/mit-license/).\u200b", 
            "cell_type": "markdown", 
            "metadata": {}
        }
    ], 
    "metadata": {
        "kernelspec": {
            "display_name": "Python 3.5", 
            "name": "python3", 
            "language": "python"
        }, 
        "widgets": {
            "state": {}, 
            "version": "1.1.2"
        }, 
        "language_info": {
            "mimetype": "text/x-python", 
            "nbconvert_exporter": "python", 
            "version": "3.5.5", 
            "name": "python", 
            "file_extension": ".py", 
            "pygments_lexer": "ipython3", 
            "codemirror_mode": {
                "version": 3, 
                "name": "ipython"
            }
        }
    }, 
    "nbformat": 4
}